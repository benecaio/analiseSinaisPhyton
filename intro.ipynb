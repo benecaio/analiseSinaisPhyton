{
  "nbformat": 4,
  "nbformat_minor": 0,
  "metadata": {
    "colab": {
      "private_outputs": true,
      "provenance": [],
      "include_colab_link": true
    },
    "kernelspec": {
      "name": "python3",
      "display_name": "Python 3"
    },
    "language_info": {
      "name": "python"
    }
  },
  "cells": [
    {
      "cell_type": "markdown",
      "metadata": {
        "id": "view-in-github",
        "colab_type": "text"
      },
      "source": [
        "<a href=\"https://colab.research.google.com/github/benecaio/analiseSinaisPhyton/blob/main/intro.ipynb\" target=\"_parent\"><img src=\"https://colab.research.google.com/assets/colab-badge.svg\" alt=\"Open In Colab\"/></a>"
      ]
    },
    {
      "cell_type": "code",
      "execution_count": null,
      "metadata": {
        "id": "DZ6KJ8LCQogG"
      },
      "outputs": [],
      "source": [
        " x = True\n",
        " print(x)"
      ]
    },
    {
      "cell_type": "code",
      "source": [
        "print(type(x))"
      ],
      "metadata": {
        "id": "NNf_q8upR7_i"
      },
      "execution_count": null,
      "outputs": []
    },
    {
      "cell_type": "code",
      "source": [
        "x = 'George'\n",
        "print(x[0:3])"
      ],
      "metadata": {
        "id": "apqDwpjoSeA4"
      },
      "execution_count": null,
      "outputs": []
    },
    {
      "cell_type": "code",
      "source": [
        "for inteiro in ['10', 'george', 20, 30]:\n",
        "  print(inteiro)"
      ],
      "metadata": {
        "id": "88sNXMXIS91w"
      },
      "execution_count": null,
      "outputs": []
    },
    {
      "cell_type": "code",
      "source": [
        "if x == 'george':\n",
        "  print('sim')\n",
        "else:\n",
        "  print('não')"
      ],
      "metadata": {
        "id": "cm7UUbfETrXn"
      },
      "execution_count": null,
      "outputs": []
    },
    {
      "cell_type": "code",
      "source": [
        "i = 0 \n",
        "while i <= 3:\n",
        "  print('i é menor ou igual a 3, i = ', i)\n",
        "  i += 1\n"
      ],
      "metadata": {
        "id": "DE9zkhFUUKLz"
      },
      "execution_count": null,
      "outputs": []
    },
    {
      "cell_type": "code",
      "source": [],
      "metadata": {
        "id": "20YyAqZyVGfQ"
      },
      "execution_count": null,
      "outputs": []
    },
    {
      "cell_type": "code",
      "source": [
        "#Bibliotecas a serem usadas:\n",
        "import numpy as np\n",
        "import matplotlib.pyplot as plt\n",
        "\n",
        "\n",
        "x = np.linspace(0, 100, 1000)\n",
        "y = np.sin(x)\n",
        "plt.plot(x,y)"
      ],
      "metadata": {
        "id": "4GtfBJz-UapY"
      },
      "execution_count": null,
      "outputs": []
    },
    {
      "cell_type": "code",
      "source": [
        "x = np.arange(0,10,2) # Coleção de 0 a 10 espaçados em 2\n",
        "print(x, type(x))\n",
        "x = [1, 2, 3, 4, 5, 'rt']\n",
        "y = {'lat':[3.4, 5.5], 'lon':[-33.3, -22.4] }\n",
        "z = (3, 4,5, 6)"
      ],
      "metadata": {
        "id": "5rxDlrGvVwwX"
      },
      "execution_count": null,
      "outputs": []
    },
    {
      "cell_type": "code",
      "source": [
        "print(type(x))\n",
        "print(type(y))\n",
        "print(type(z))"
      ],
      "metadata": {
        "id": "xv7PvDDNYORR"
      },
      "execution_count": null,
      "outputs": []
    },
    {
      "cell_type": "code",
      "source": [
        "import numpy as np\n",
        "import matplotlib.pyplot as plt\n",
        "import scipy \n",
        "import sympy"
      ],
      "metadata": {
        "id": "iarjNdtkmYtD"
      },
      "execution_count": null,
      "outputs": []
    },
    {
      "cell_type": "code",
      "source": [
        "from sympy import Symbol, solve, init_printing \n",
        "from sympy.plotting import plot\n",
        "\n",
        "# configuração para outputs melhores no artigo, pode ser ignorado\n",
        "init_printing(use_latex='png', scale=1.25, order='grlex',\n",
        "              forecolor='Black', backcolor='White', fontsize=12)\n",
        "\n",
        "x = Symbol('x')\n",
        "example = (x + 1)**2 + 9\n",
        "\n",
        "plot(example, axis_center=(0, 0))"
      ],
      "metadata": {
        "id": "DMSIXYcbnHqC"
      },
      "execution_count": null,
      "outputs": []
    },
    {
      "cell_type": "code",
      "source": [
        "solve(example)"
      ],
      "metadata": {
        "id": "Xdz9xBjcnsls"
      },
      "execution_count": null,
      "outputs": []
    },
    {
      "cell_type": "code",
      "source": [
        "z = 4 + 3j\n",
        "\n",
        "# para padronizar o estilo dos gráficos do artigo:\n",
        "params = {\n",
        "    'axes.labelsize': 12,\n",
        "    'axes.titlesize': 12,\n",
        "    'axes.spines.top': False,\n",
        "    'axes.spines.right': False,\n",
        "    'xtick.labelsize': 12,\n",
        "    'ytick.labelsize': 12,\n",
        "    'figure.autolayout': True,\n",
        "    'figure.facecolor': 'white',\n",
        "    'figure.titlesize': 16,    \n",
        "    'figure.figsize': (12, 8),\n",
        "    'legend.shadow': False,    \n",
        "    'legend.fontsize': 10,\n",
        "    'lines.linewidth': 2.0,\n",
        "}\n",
        "\n",
        "plt.rcParams.update(params)\n",
        "\n",
        "fig, ax = plt.subplots(figsize=(6, 6))\n",
        "\n",
        "# ponto\n",
        "ax.scatter(z.real, z.imag, s=100, color='red')\n",
        "\n",
        "# vetor\n",
        "ax.quiver(0, 0, z.real, z.imag, units='xy', angles='xy', scale=1)\n",
        "\n",
        "# identificando adequadamente o gráfico\n",
        "ax.set_xlabel('Re')\n",
        "ax.set_ylabel('Im')\n",
        "fig.suptitle('Plano de Argand-Gauss', color='dimgray')\n",
        "ax.set_title('Complexo: $z = 4 + 3i$')\n",
        "\n",
        "plt.show()"
      ],
      "metadata": {
        "id": "EN406P9Wn_la"
      },
      "execution_count": null,
      "outputs": []
    },
    {
      "cell_type": "code",
      "source": [
        "import math\n",
        "from matplotlib.ticker import MultipleLocator\n",
        "from matplotlib.patches import Arc\n",
        "\n",
        "fig, ax = plt.subplots()\n",
        "\n",
        "# construindo nosso sistema de coordenadas e limpando o gráfico\n",
        "ax.spines['top'].set_color('none')\n",
        "ax.spines['bottom'].set_position('center')\n",
        "ax.spines['left'].set_position('center')\n",
        "ax.spines['right'].set_color('none')\n",
        "ax.xaxis.set_ticks_position('bottom')\n",
        "ax.yaxis.set_ticks_position('left')\n",
        "ax.xaxis.set_major_locator(MultipleLocator(1))\n",
        "ax.yaxis.set_major_locator(MultipleLocator(1))\n",
        "ax.grid(which='both', color='grey', linewidth=1, linestyle='-', alpha=0.2)\n",
        "\n",
        "# ponto e vetor\n",
        "ax.scatter(z.real, z.imag, s=100, color='red')\n",
        "ax.quiver(0, 0, z.real, z.imag, units='xy', angles='xy', scale=1)\n",
        "\n",
        "# círculo\n",
        "circle = plt.Circle((0, 0), 5, color='blue', fill=False)\n",
        "ax.set_aspect('equal', adjustable='datalim')\n",
        "ax.add_patch(circle)\n",
        "\n",
        "# vetores componenentes\n",
        "ax.quiver(0, 0, z.real, 0, units='xy', angles='xy', scale=1, color='red',\n",
        "          width=0.075, alpha=0.25)\n",
        "ax.quiver(0, 0, 0, z.imag, units='xy', angles='xy', scale=1, color='red',\n",
        "          width=0.075, alpha=0.25)\n",
        "\n",
        "# linhas para evidenciar os triângulos\n",
        "ax.hlines(z.imag, 0, z.real, linestyle='--', color='purple')\n",
        "ax.vlines(z.real, 0, z.imag, linestyle='--', color='purple')\n",
        "\n",
        "# mostrando o ângulo\n",
        "angle = math.degrees(math.asin(z.imag/abs(z)))  # valeu, Pitágoras!\n",
        "\n",
        "arc = Arc(xy=(0, 0), width=2, height=2, \n",
        "          theta1=0, theta2=angle,\n",
        "          linewidth=2)\n",
        "ax.add_patch(arc)\n",
        "\n",
        "ax.text(1.1, 0.4, f'{angle:.1f}°', fontsize=14)\n",
        "\n",
        "# identificando adequadamente o gráfico\n",
        "ax.set_xlabel('Re', loc='right')\n",
        "ax.set_ylabel('Im', rotation='horizontal', ha='right', y=0.96, labelpad=-50)\n",
        "fig.suptitle('Plano de Argand-Gauss', color='dimgray')\n",
        "ax.set_title('Complexo: $z = 4 + 3i$')\n",
        "\n",
        "plt.show()"
      ],
      "metadata": {
        "id": "cDOB6BZVpASD"
      },
      "execution_count": null,
      "outputs": []
    },
    {
      "cell_type": "code",
      "source": [
        "import cmath\n",
        "\n",
        "cmath.sqrt(-4)"
      ],
      "metadata": {
        "id": "WRd83ZGEqILU"
      },
      "execution_count": null,
      "outputs": []
    },
    {
      "cell_type": "code",
      "source": [
        "cmath.polar(z)"
      ],
      "metadata": {
        "id": "WVj3w2kLqT1y"
      },
      "execution_count": null,
      "outputs": []
    },
    {
      "cell_type": "code",
      "source": [
        "0.64*180/np.pi"
      ],
      "metadata": {
        "id": "pRGSZi3YqfuJ"
      },
      "execution_count": null,
      "outputs": []
    },
    {
      "cell_type": "code",
      "source": [
        "math.degrees(cmath.polar(z)[1])"
      ],
      "metadata": {
        "id": "4W5kwuWyq-iL"
      },
      "execution_count": null,
      "outputs": []
    },
    {
      "cell_type": "code",
      "source": [
        "round(math.degrees(cmath.phase(z)), 1)\n"
      ],
      "metadata": {
        "id": "v4L-uuH0rIhR"
      },
      "execution_count": null,
      "outputs": []
    },
    {
      "cell_type": "code",
      "source": [
        "abs(z) * (math.cos(cmath.phase(z)) + math.sin(cmath.phase(z))*1j)\n"
      ],
      "metadata": {
        "id": "HVayCvwxreJB"
      },
      "execution_count": null,
      "outputs": []
    },
    {
      "cell_type": "code",
      "source": [
        "fig, ax = plt.subplots(subplot_kw={'projection': 'polar'}, figsize=(6, 6))\n",
        "\n",
        "ax.plot(cmath.phase(z), abs(z), marker='o', markersize=15, color='red')\n",
        "plt.show()"
      ],
      "metadata": {
        "id": "XuT34HeZro66"
      },
      "execution_count": null,
      "outputs": []
    }
  ]
}