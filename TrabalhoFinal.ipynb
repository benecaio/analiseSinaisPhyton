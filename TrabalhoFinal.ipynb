{
  "nbformat": 4,
  "nbformat_minor": 0,
  "metadata": {
    "colab": {
      "private_outputs": true,
      "provenance": [],
      "include_colab_link": true
    },
    "kernelspec": {
      "name": "python3",
      "display_name": "Python 3"
    },
    "language_info": {
      "name": "python"
    }
  },
  "cells": [
    {
      "cell_type": "markdown",
      "metadata": {
        "id": "view-in-github",
        "colab_type": "text"
      },
      "source": [
        "<a href=\"https://colab.research.google.com/github/benecaio/analiseSinaisPhyton/blob/main/TrabalhoFinal.ipynb\" target=\"_parent\"><img src=\"https://colab.research.google.com/assets/colab-badge.svg\" alt=\"Open In Colab\"/></a>"
      ]
    },
    {
      "cell_type": "markdown",
      "source": [
        "# Trabalho final de Análise de Sinais\n",
        "\n",
        "\n",
        "Segue o dado de evento sísmico registrado nas estações NNA no Peru, LCO no Chile e outra em SAML (Samuel-RO) no Brasil.\n",
        "Obs: Observe que os dados estão com data, hora, minuto segundo e microssegundos,\n",
        "para ser prático, use o tempo de referencia para fazer a\n",
        "coordenada de tempo versus Amplitude do sinal. \n",
        "\n",
        "\n",
        "* NNA - Caio Benevides\n",
        "* LCO - Yerhu Manoel\n",
        "* SAML - Joenildo de Souza Silva\n",
        "\n",
        "Faça um programa que mostre\n",
        "\n",
        "1. Os sismograma graficamente\n"
      ],
      "metadata": {
        "id": "U5bapUn0oRrP"
      }
    },
    {
      "cell_type": "code",
      "execution_count": null,
      "metadata": {
        "id": "GJl5zDXCoRMM"
      },
      "outputs": [],
      "source": [
        "import numpy as np\n",
        "import pandas as pd\n",
        "import matplotlib.pyplot as plt\n",
        "\n",
        "#Importando o dado direto do repositório Github\n",
        "!git clone https://github.com/benecaio/analiseSinaisPhyton\n",
        "\n",
        "#Lendo o dado e separando em linhas e colunas\n",
        "dado = pd.read_table(\"analiseSinaisPhyton/NNA.txt\", delimiter=\",\")\n",
        "print(dado)\n",
        "\n",
        "#Especificações importantes\n",
        "dt = 0.025 # Intervalo entre amostras\n",
        "fs = (1/dt) # Taxa de amostragem\n",
        "fn = 1/(2*dt) # frequência de nyquist\n",
        "n = len(dado.index) # Número de amostras do sinal\n",
        "print(n)\n",
        "t = np.arange(0, 1800, dt) #Período total do sinal em um arranjo de 0 a 1800s\n",
        "\n",
        "\n",
        "print(f'O dado de sismologia registrado na estação NNA do Peru tem {n} amostras')\n",
        "print(f'A taxa de amostragem do dado é de {fs} Hz')\n",
        "print(f'A frequência angular de Nyquist é de {fn} Hz')\n",
        "\n",
        "\n",
        "\n",
        "plt.figure(figsize = (10, 7))\n",
        "plt.plot(t, dado, \"b\")\n",
        "plt.ylabel(\"Amplitude\")\n",
        "plt.xlabel(\"Tempo (s)\")\n",
        "plt.title(\"Dado sismológico\")\n",
        "plt.show()\n"
      ]
    },
    {
      "cell_type": "markdown",
      "source": [
        "2. Plotar o espectro de frequência do sinal\n",
        "\n"
      ],
      "metadata": {
        "id": "CJaOCrMUyDqu"
      }
    },
    {
      "cell_type": "code",
      "source": [
        "from scipy.fft import fft, fftfreq\n",
        "\n",
        "# Número de amostras do nosso sinal\n",
        "#N = sample_rate * duration\n",
        "\n",
        "yf = fft(dado) #fast-fourier transform do nosso sinal\n",
        "xf = fftfreq(n, 1 / fs) #criando o eixo da frequência\n",
        "\n",
        "plt.plot(xf, np.abs(yf),\"b\")\n",
        "plt.title(\"Dado sismológico - Domínio da Frequência\")\n",
        "plt.xlabel('Frequência $\\omega$')\n",
        "plt.ylabel(\"Amplitude\")\n",
        "plt.show()"
      ],
      "metadata": {
        "id": "1NSFUBEEyDUC"
      },
      "execution_count": null,
      "outputs": []
    },
    {
      "cell_type": "markdown",
      "source": [
        "3. A taxa de Amostragem "
      ],
      "metadata": {
        "id": "EQv6hQ5SyNz8"
      }
    },
    {
      "cell_type": "code",
      "source": [
        "#Especificações importantes\n",
        "dt = 0.025 # Intervalo entre amostras\n",
        "fs = (1/dt) # Taxa de amostragem\n",
        "print(f'A taxa de amostragem do dado é de {fs} Hz')"
      ],
      "metadata": {
        "id": "NNo5T8vhyNVu"
      },
      "execution_count": null,
      "outputs": []
    },
    {
      "cell_type": "markdown",
      "source": [
        "4. A frequência de Nyquist."
      ],
      "metadata": {
        "id": "3SMcLMGGyUnB"
      }
    },
    {
      "cell_type": "code",
      "source": [
        "#Especificações importantes\n",
        "fn = 1/(2*dt) # frequência de nyquist\n",
        "print(f'A frequência angular de Nyquist é de {fn} Hz')"
      ],
      "metadata": {
        "id": "Fi6zkI1_yav8"
      },
      "execution_count": null,
      "outputs": []
    },
    {
      "cell_type": "markdown",
      "source": [
        "5. O gráfico da autocorrelação (pode usar função do numpy.xcorr ou outro do scipy)"
      ],
      "metadata": {
        "id": "zMB_cmAFycHO"
      }
    },
    {
      "cell_type": "code",
      "source": [
        "from scipy import signal\n",
        "\n",
        "#Transformando o dado em um array\n",
        "v = np.array(dado)\n",
        "t = np.arange(0, 1800, dt) #Período total do sinal em um arranjo de 0 a 1800s\n",
        "\n",
        "#Autocorrelação do sinal\n",
        "corr = signal.correlate(v, v)\n",
        "\n",
        "#normalizando o sinal\n",
        "corr2 = corr/max(corr)\n",
        "\n",
        "\n",
        "\n",
        "#Lags\n",
        "lags = signal.correlation_lags(len(v), len(v))\n",
        "\n",
        "\n",
        "plt.plot(lags,corr2,\"b\")\n",
        "plt.title(\"Auto correlação do dado sismológico\")\n",
        "plt.xlabel('Lag')\n",
        "plt.show()\n"
      ],
      "metadata": {
        "id": "B6KXDHxWyi0E"
      },
      "execution_count": null,
      "outputs": []
    },
    {
      "cell_type": "markdown",
      "source": [
        "6. Passe um filtro no sinal que melhore o sinal e mostre que frequências foram\n",
        "removidas. "
      ],
      "metadata": {
        "id": "U2N72m4zyodL"
      }
    },
    {
      "cell_type": "code",
      "source": [
        "from scipy.fft import fft,ifft,rfft,irfft,fftfreq\n",
        "\n",
        "#Dado sismológico - Domínio do Tempo\n",
        "plt.plot(t,dado,\"b\")\n",
        "plt.ylabel(\"Amplitude\")\n",
        "plt.xlabel(\"Tempo (s)\")\n",
        "plt.title(\"Dado sismológico\")\n",
        "plt.show()\n",
        "\n",
        "\n",
        "#Dado sismológico - Domínio da frequência\n",
        "sis_freq = fft(dado)\n",
        "freq = fftfreq(n,dt)\n",
        "\n",
        "plt.plot(freq,abs(sis_freq)*dt,\"b\")\n",
        "plt.title(\"Domínio da Frequência\")\n",
        "plt.xlim(-5,20)\n",
        "plt.xlabel(\"Frequência $\\omega$\")\n",
        "plt.ylabel(\"Amplitude\")\n",
        "plt.show()\n",
        "\n",
        "print('Para melhorar o sinal vamos utilizar um filtro 0,7 - 2 Hz')\n",
        "\n",
        "#Aplicando filtro 1\n",
        "Filter_BP = np.ones(n)\n",
        "Filter_BP[abs(freq)<0.7] = 0\n",
        "filtered = sis_freq*Filter_BP\n",
        "\n",
        "\n",
        "\n",
        "#Aplicando filtro 2\n",
        "Filter_BP2 = np.ones(n)\n",
        "Filter_BP2[abs(freq)>2] = 0\n",
        "filtered2 = filtered*Filter_BP2\n",
        "\n",
        "#Retornando ao domínio do tempo\n",
        "dado_filtrado = ifft(filtered2)\n",
        "\n",
        "plt.plot(t,dado)\n",
        "plt.title(\"Original\")\n",
        "plt.show()\n",
        "\n",
        "plt.plot(dado_filtrado)\n",
        "plt.title(\"Filtrado\")\n",
        "plt.show()\n",
        "\n"
      ],
      "metadata": {
        "id": "k02rhfNyys8E"
      },
      "execution_count": null,
      "outputs": []
    },
    {
      "cell_type": "markdown",
      "source": [
        "7.Qual o maior  conteúdo de frequências?"
      ],
      "metadata": {
        "id": "4xR6AiB6yyA1"
      }
    },
    {
      "cell_type": "code",
      "source": [
        "# O maior conteúdo de frequências é no intervalo de 2 a 7 Hz."
      ],
      "metadata": {
        "id": "rPf2NiJxyz1b"
      },
      "execution_count": null,
      "outputs": []
    }
  ]
}